{
 "cells": [
  {
   "cell_type": "code",
   "execution_count": 1,
   "id": "4faa4401",
   "metadata": {},
   "outputs": [
    {
     "name": "stdout",
     "output_type": "stream",
     "text": [
      "Enter first number:1\n",
      "Enter operator:/\n",
      "Enter second number:2\n",
      "0.5\n"
     ]
    }
   ],
   "source": [
    "num1 = float(input(\"Enter first number:\"))\n",
    "op = input(\"Enter operator:\")\n",
    "num2 = float(input(\"Enter second number:\"))\n",
    "\n",
    "if op == \"+\":\n",
    "    print(num1 + num2)\n",
    "elif op == \"-\":\n",
    "    print(num1 - num2)\n",
    "elif op == \"/\":\n",
    "    print(num1 / num2)\n",
    "elif op == \"*\":\n",
    "    print(num1 * num2)\n",
    "elif operator == \"**\":\n",
    "    print(num1 ** num2)\n",
    "else:\n",
    "    print(\"Invalid operator\")"
   ]
  },
  {
   "cell_type": "code",
   "execution_count": 10,
   "id": "10b90b4e",
   "metadata": {},
   "outputs": [
    {
     "name": "stdout",
     "output_type": "stream",
     "text": [
      "6\n"
     ]
    }
   ],
   "source": [
    "list = [\"eagle\", \"elephent\", 6, \"khi\"] \n",
    "for x in list: \n",
    "    if type(x) == int: \n",
    "        print(x)"
   ]
  },
  {
   "cell_type": "code",
   "execution_count": 12,
   "id": "ca60284f",
   "metadata": {},
   "outputs": [
    {
     "name": "stdout",
     "output_type": "stream",
     "text": [
      "1 a\n",
      "2 d\n",
      "3 s\n",
      "4 f\n"
     ]
    }
   ],
   "source": [
    "a = {1:'a' , 2:'d' , 3:'c' }\n",
    "\n",
    "a[4] = 'f'\n",
    "a[3] = 's'\n",
    "for key,value in a.items():\n",
    "    print(key, value)"
   ]
  },
  {
   "cell_type": "code",
   "execution_count": 13,
   "id": "7f9ae415",
   "metadata": {},
   "outputs": [
    {
     "name": "stdout",
     "output_type": "stream",
     "text": [
      "Total sum of values in the dictionary:\n",
      "79\n"
     ]
    }
   ],
   "source": [
    "k={'A':10,'B':40,'C':29}\n",
    "print(\"Total sum of values in the dictionary:\")\n",
    "print(sum(k.values()))"
   ]
  },
  {
   "cell_type": "code",
   "execution_count": 16,
   "id": "605f47ae",
   "metadata": {},
   "outputs": [],
   "source": [
    "def checkIfDuplicates_2(listOfElems):\n",
    "    ''' Check if given list contains any duplicates '''    \n",
    "    setOfElems = set()\n",
    "    for elem in listOfElems:\n",
    "        if elem in setOfElems:\n",
    "            return True\n",
    "        else:\n",
    "            setOfElems.add(elem)         \n",
    "    return False"
   ]
  },
  {
   "cell_type": "code",
   "execution_count": 19,
   "id": "92cb1009",
   "metadata": {},
   "outputs": [
    {
     "name": "stdout",
     "output_type": "stream",
     "text": [
      "Key is not present in the dictionary\n",
      "Key is not present in the dictionary\n"
     ]
    }
   ],
   "source": [
    "d = {1: 11, 2: 22, 3: 33, 4: 44, 5: 55, 6: 66}\n",
    "def keypresent(x):\n",
    "  if x in d:\n",
    "      print('Key is present in the dictionary')\n",
    "  else:\n",
    "      print('Key is not present in the dictionary')\n",
    "keypresent(66)\n",
    "keypresent(9)"
   ]
  },
  {
   "cell_type": "code",
   "execution_count": null,
   "id": "a0f05d76",
   "metadata": {},
   "outputs": [],
   "source": []
  }
 ],
 "metadata": {
  "kernelspec": {
   "display_name": "Python 3",
   "language": "python",
   "name": "python3"
  },
  "language_info": {
   "codemirror_mode": {
    "name": "ipython",
    "version": 3
   },
   "file_extension": ".py",
   "mimetype": "text/x-python",
   "name": "python",
   "nbconvert_exporter": "python",
   "pygments_lexer": "ipython3",
   "version": "3.8.8"
  }
 },
 "nbformat": 4,
 "nbformat_minor": 5
}
